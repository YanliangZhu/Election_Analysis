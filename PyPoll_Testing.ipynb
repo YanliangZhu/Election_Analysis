{
 "cells": [
  {
   "cell_type": "code",
   "execution_count": 1,
   "metadata": {},
   "outputs": [],
   "source": [
    "#The data we need to retrieve\n",
    "#1. The total # of votes cast\n",
    "#2. A complete list of candidates who received votes\n",
    "#3. The % of votes each candidate won\n",
    "#4. Tge ttal # of votes each candidate won\n",
    "#5. The winner of the election based on popular vote"
   ]
  },
  {
   "cell_type": "code",
   "execution_count": 10,
   "metadata": {},
   "outputs": [
    {
     "data": {
      "text/plain": [
       "['Dialect',\n",
       " 'DictReader',\n",
       " 'DictWriter',\n",
       " 'Error',\n",
       " 'QUOTE_ALL',\n",
       " 'QUOTE_MINIMAL',\n",
       " 'QUOTE_NONE',\n",
       " 'QUOTE_NONNUMERIC',\n",
       " 'Sniffer',\n",
       " 'StringIO',\n",
       " '_Dialect',\n",
       " '__all__',\n",
       " '__builtins__',\n",
       " '__cached__',\n",
       " '__doc__',\n",
       " '__file__',\n",
       " '__loader__',\n",
       " '__name__',\n",
       " '__package__',\n",
       " '__spec__',\n",
       " '__version__',\n",
       " 'excel',\n",
       " 'excel_tab',\n",
       " 'field_size_limit',\n",
       " 'get_dialect',\n",
       " 'list_dialects',\n",
       " 're',\n",
       " 'reader',\n",
       " 'register_dialect',\n",
       " 'unix_dialect',\n",
       " 'unregister_dialect',\n",
       " 'writer']"
      ]
     },
     "execution_count": 10,
     "metadata": {},
     "output_type": "execute_result"
    }
   ],
   "source": [
    "import csv\n",
    "dir(csv)"
   ]
  },
  {
   "cell_type": "code",
   "execution_count": 3,
   "metadata": {},
   "outputs": [
    {
     "name": "stdout",
     "output_type": "stream",
     "text": [
      "<_io.TextIOWrapper name='election_results.csv' mode='r' encoding='UTF-8'>\n"
     ]
    }
   ],
   "source": [
    "file_to_load = \"election_results.csv\"\n",
    "#election_data = open(file_to_load,r)\n",
    "#election_data.close()\n",
    "with open(file_to_load) as election_data:\n",
    "    print(election_data)\n",
    "file_to_save = os.path.join(\"analysis\", \"election_analysis.txt\")\n",
    "#outfile = open(file_to_save, \"w\")\n",
    "#outfile.write(\"Hello\")\n",
    "#outfile.close()\n",
    "with open(file_to_save, \"w\") as txt_file:\n",
    "    txt_file.write(\"Arapahoe, \")\n",
    "    txt_file.write(\"Denver, \")\n",
    "    txt_file.write(\"Jefferson\")"
   ]
  },
  {
   "cell_type": "code",
   "execution_count": 56,
   "metadata": {},
   "outputs": [
    {
     "name": "stdout",
     "output_type": "stream",
     "text": [
      "\n",
      "Election Results\n",
      "-------------------------\n",
      "Total Votes: 369,711\n",
      "-------------------------\n",
      "Charles Casper Stockham: 23.0% (85,213)\n",
      "\n",
      "Diana DeGette: 73.8% (272,892)\n",
      "\n",
      "Raymon Anthony Doane: 3.1% (11,606)\n",
      "\n",
      "-------------------------\n",
      "Winner: Diana DeGette\n",
      "Winning Vote Count: 272,892\n",
      "Winning Percentage: 73.8%\n",
      "-------------------------\n",
      "\n"
     ]
    }
   ],
   "source": [
    "import csv\n",
    "import os\n",
    "file_to_load = os.path.join(\"data\", \"election_results.csv\")\n",
    "\n",
    "#1. The total # of votes cast\n",
    "total_votes = 0\n",
    "#2. A complete list of candidates who received votes\n",
    "candidate_options = []\n",
    "\n",
    "#candidate vote\n",
    "candidate_votes = {}\n",
    "\n",
    "with open(file_to_load) as election_data:\n",
    "    file_reader = csv.reader(election_data)\n",
    "    headers = next(file_reader)\n",
    "    for row in file_reader:\n",
    "        #1\n",
    "        total_votes += 1\n",
    "        #2\n",
    "        name = row[2]\n",
    "        if name not in candidate_options:\n",
    "            candidate_options.append(row[2])\n",
    "            candidate_votes[name] = 0\n",
    "        candidate_votes[name] += 1\n",
    "\n",
    "file_to_save = os.path.join(\"analysis\", \"election_analysis.txt\")\n",
    "with open(file_to_save, \"w\") as txt_file:\n",
    "    election_results = (\n",
    "            f\"\\nElection Results\\n\"\n",
    "            f\"-------------------------\\n\"\n",
    "            f\"Total Votes: {total_votes:,}\\n\"\n",
    "            f\"-------------------------\\n\")\n",
    "    print(election_results, end=\"\")\n",
    "    txt_file.write(election_results)\n",
    "    #3. The % of votes each candidate won\n",
    "    winning_count = 0\n",
    "    winning_percentage = 0\n",
    "    winning_candidate = \"\"\n",
    "    for name in candidate_votes:\n",
    "        votes = candidate_votes[name]\n",
    "        summary = f\"{name}: {float(votes) / float(total_votes) * 100:.1f}% ({votes:,})\\n\"\n",
    "        print(summary)\n",
    "        txt_file.write(summary)\n",
    "        if (votes > winning_count) and ((float(votes) / float(total_votes) * 100) > winning_percentage):\n",
    "            winning_count = votes\n",
    "            winning_percentage = float(votes) / float(total_votes) * 100\n",
    "            winning_candidate = name\n",
    "\n",
    "    winning_candidate_summary = (\n",
    "        f\"-------------------------\\n\"\n",
    "        f\"Winner: {winning_candidate}\\n\"\n",
    "        f\"Winning Vote Count: {winning_count:,}\\n\"\n",
    "        f\"Winning Percentage: {winning_percentage:.1f}%\\n\"\n",
    "        f\"-------------------------\\n\")\n",
    "    print(winning_candidate_summary)\n",
    "    txt_file.write(winning_candidate_summary)\n",
    "    \n",
    "\n",
    "\n",
    "\n",
    "    "
   ]
  },
  {
   "cell_type": "code",
   "execution_count": null,
   "metadata": {},
   "outputs": [],
   "source": []
  }
 ],
 "metadata": {
  "kernelspec": {
   "display_name": "Python 3.8.3 64-bit",
   "language": "python",
   "name": "python38364bitbe19081701d7455da8cc44dd46382d31"
  },
  "language_info": {
   "codemirror_mode": {
    "name": "ipython",
    "version": 3
   },
   "file_extension": ".py",
   "mimetype": "text/x-python",
   "name": "python",
   "nbconvert_exporter": "python",
   "pygments_lexer": "ipython3",
   "version": "3.8.3"
  }
 },
 "nbformat": 4,
 "nbformat_minor": 4
}
